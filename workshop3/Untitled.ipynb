{
 "cells": [
  {
   "cell_type": "code",
   "execution_count": 2,
   "metadata": {},
   "outputs": [],
   "source": [
    "import pandas as pd # pandas is a package and is helpful for data manipulation\n",
    "import numpy as np\n",
    "import matplotlib.pyplot as plt\n",
    "filepath_hospital = \"./HospitalAdmissionsData.csv\";\n",
    "hospital = pd.read_csv(filepath_hospital)"
   ]
  },
  {
   "cell_type": "code",
   "execution_count": 3,
   "metadata": {},
   "outputs": [
    {
     "data": {
      "text/plain": [
       "Index(['ID', 'AdmissionLengthDays', 'Death_1', 'Admission_Type',\n",
       "       'Insurance_Type', 'EnglishLanguage_1', 'Religion_Type', 'Married_1',\n",
       "       'Race', 'Dx'],\n",
       "      dtype='object')"
      ]
     },
     "execution_count": 3,
     "metadata": {},
     "output_type": "execute_result"
    }
   ],
   "source": [
    "# What are the column headers or features in this data set?\n",
    "hospital.columns\n",
    "# 'ID', 'AdmissionLengthDays', 'Death_1', \n",
    "#'Admission_Type','Insurance_Type', 'EnglishLanguage_1', 'Religion_Type', 'Married_1',\n",
    "       #'Race', 'Dx'"
   ]
  },
  {
   "cell_type": "code",
   "execution_count": 5,
   "metadata": {},
   "outputs": [
    {
     "name": "stdout",
     "output_type": "stream",
     "text": [
      "<class 'pandas.core.frame.DataFrame'>\n",
      "RangeIndex: 58863 entries, 0 to 58862\n",
      "Data columns (total 10 columns):\n",
      "ID                     58863 non-null int64\n",
      "AdmissionLengthDays    58863 non-null float64\n",
      "Death_1                58863 non-null int64\n",
      "Admission_Type         58863 non-null object\n",
      "Insurance_Type         58863 non-null object\n",
      "EnglishLanguage_1      58863 non-null int64\n",
      "Religion_Type          58408 non-null object\n",
      "Married_1              58863 non-null int64\n",
      "Race                   58863 non-null object\n",
      "Dx                     58863 non-null object\n",
      "dtypes: float64(1), int64(4), object(5)\n",
      "memory usage: 4.5+ MB\n"
     ]
    }
   ],
   "source": [
    "#Q:How many features are floats? How many are integers?\n",
    "hospital.info()\n",
    "#A:1 float, 3 integers\n",
    "\n",
    "#Q:Which features are objects (non-numeric variables)?\n",
    "#A:Admission_Type, Insurance_type, Religion_type, Race, Dx"
   ]
  },
  {
   "cell_type": "code",
   "execution_count": 6,
   "metadata": {},
   "outputs": [
    {
     "data": {
      "text/plain": [
       "array(['private', 'medicare', 'government', 'medicaid', 'self pay'],\n",
       "      dtype=object)"
      ]
     },
     "execution_count": 6,
     "metadata": {},
     "output_type": "execute_result"
    }
   ],
   "source": [
    "#Q:What are the possible 'values' for insurance type?\n",
    "hospital.Insurance_Type.unique()\n",
    "#A:['private', 'medicare', 'government', 'medicaid', 'self pay'"
   ]
  },
  {
   "cell_type": "code",
   "execution_count": 8,
   "metadata": {},
   "outputs": [
    {
     "data": {
      "text/plain": [
       "count    58863.000000\n",
       "mean        10.138978\n",
       "std         12.465611\n",
       "min         -0.945139\n",
       "25%          3.743056\n",
       "50%          6.465972\n",
       "75%         11.798264\n",
       "max        294.660417\n",
       "Name: AdmissionLengthDays, dtype: float64"
      ]
     },
     "execution_count": 8,
     "metadata": {},
     "output_type": "execute_result"
    }
   ],
   "source": [
    "#Q: Show the summary statistics for the admission length.\n",
    "hospital.AdmissionLengthDays.describe()"
   ]
  },
  {
   "cell_type": "code",
   "execution_count": 9,
   "metadata": {},
   "outputs": [
    {
     "data": {
      "text/html": [
       "<div>\n",
       "<style scoped>\n",
       "    .dataframe tbody tr th:only-of-type {\n",
       "        vertical-align: middle;\n",
       "    }\n",
       "\n",
       "    .dataframe tbody tr th {\n",
       "        vertical-align: top;\n",
       "    }\n",
       "\n",
       "    .dataframe thead th {\n",
       "        text-align: right;\n",
       "    }\n",
       "</style>\n",
       "<table border=\"1\" class=\"dataframe\">\n",
       "  <thead>\n",
       "    <tr style=\"text-align: right;\">\n",
       "      <th></th>\n",
       "      <th>Admission_Type</th>\n",
       "      <th>Insurance_Type</th>\n",
       "      <th>Religion_Type</th>\n",
       "      <th>Race</th>\n",
       "      <th>Dx</th>\n",
       "    </tr>\n",
       "  </thead>\n",
       "  <tbody>\n",
       "    <tr>\n",
       "      <td>count</td>\n",
       "      <td>58863</td>\n",
       "      <td>58863</td>\n",
       "      <td>58408</td>\n",
       "      <td>58863</td>\n",
       "      <td>58863</td>\n",
       "    </tr>\n",
       "    <tr>\n",
       "      <td>unique</td>\n",
       "      <td>4</td>\n",
       "      <td>5</td>\n",
       "      <td>20</td>\n",
       "      <td>41</td>\n",
       "      <td>15647</td>\n",
       "    </tr>\n",
       "    <tr>\n",
       "      <td>top</td>\n",
       "      <td>emergency</td>\n",
       "      <td>medicare</td>\n",
       "      <td>catholic</td>\n",
       "      <td>white</td>\n",
       "      <td>newborn</td>\n",
       "    </tr>\n",
       "    <tr>\n",
       "      <td>freq</td>\n",
       "      <td>41987</td>\n",
       "      <td>28157</td>\n",
       "      <td>20561</td>\n",
       "      <td>40927</td>\n",
       "      <td>7823</td>\n",
       "    </tr>\n",
       "  </tbody>\n",
       "</table>\n",
       "</div>"
      ],
      "text/plain": [
       "       Admission_Type Insurance_Type Religion_Type   Race       Dx\n",
       "count           58863          58863         58408  58863    58863\n",
       "unique              4              5            20     41    15647\n",
       "top         emergency       medicare      catholic  white  newborn\n",
       "freq            41987          28157         20561  40927     7823"
      ]
     },
     "execution_count": 9,
     "metadata": {},
     "output_type": "execute_result"
    }
   ],
   "source": [
    "#What is the most common admission type, insurance type, religion type, race, and diagnosis (Dx)?\n",
    "hospital.describe(include='object')\n",
    "#A: emergency, medicare, catholic, white, newborn"
   ]
  },
  {
   "cell_type": "code",
   "execution_count": 17,
   "metadata": {},
   "outputs": [
    {
     "data": {
      "text/plain": [
       "Text(0.5, 0, 'AdmissionLengthDays')"
      ]
     },
     "execution_count": 17,
     "metadata": {},
     "output_type": "execute_result"
    },
    {
     "data": {
      "image/png": "[encoded data removed]",
      "text/plain": [
       "<Figure size 432x288 with 1 Axes>"
      ]
     },
     "metadata": {
      "needs_background": "light"
     },
     "output_type": "display_data"
    }
   ],
   "source": [
    "#Show a histogram for admission days (with appropriate labels, titles, etc), and also show a histogram for \n",
    "#admission days on a log scale. Describe what you see.\n",
    "hospital.hist(column='AdmissionLengthDays', sharex=True, label=True)\n",
    "plt.title('Histogram of AdmissionLengthDays(Log Scale)')\n",
    "plt.xscale('log')\n",
    "plt.xlabel('AdmissionLengthDays')\n",
    "# Almost all Admissions are between 0 and 25 days, with no one being admitted longer than 125 days"
   ]
  },
  {
   "cell_type": "code",
   "execution_count": 16,
   "metadata": {},
   "outputs": [
    {
     "data": {
      "text/plain": [
       "Text(0.5, 0, 'AdmissionLengthDays')"
      ]
     },
     "execution_count": 16,
     "metadata": {},
     "output_type": "execute_result"
    },
    {
     "data": {
      "image/png": "[encoded data removed]",
      "text/plain": [
       "<Figure size 432x288 with 1 Axes>"
      ]
     },
     "metadata": {
      "needs_background": "light"
     },
     "output_type": "display_data"
    }
   ],
   "source": [
    "hospital.hist(column='AdmissionLengthDays', sharex=True, label=True)\n",
    "plt.title('Histogram of AdmissionLengthDays')\n",
    "plt.xlabel('AdmissionLengthDays')"
   ]
  },
  {
   "cell_type": "code",
   "execution_count": 24,
   "metadata": {},
   "outputs": [
    {
     "data": {
      "text/plain": [
       "Text(0.5, 0, 'Survival Status (1 = Survived)')"
      ]
     },
     "execution_count": 24,
     "metadata": {},
     "output_type": "execute_result"
    },
    {
     "data": {
      "image/png": "[encoded data removed]",
      "text/plain": [
       "<Figure size 432x288 with 1 Axes>"
      ]
     },
     "metadata": {
      "needs_background": "light"
     },
     "output_type": "display_data"
    }
   ],
   "source": [
    "#Compare the average length of admission between those who died versus those who did not die. \n",
    "#Show a visualization, with appropriate labels, titles, etc.\n",
    "hospitalbar = hospital.groupby('Death_1').mean()\n",
    "hospitalbar.plot.bar(y=['AdmissionLengthDays'])\n",
    "plt.title('Admission Length Days by Survival Status')\n",
    "plt.xlabel('Survival Status (1 = Survived)')"
   ]
  },
  {
   "cell_type": "code",
   "execution_count": 29,
   "metadata": {},
   "outputs": [
    {
     "data": {
      "text/plain": [
       "Text(0, 0.5, 'Counts in each insurance type')"
      ]
     },
     "execution_count": 29,
     "metadata": {},
     "output_type": "execute_result"
    },
    {
     "data": {
      "image/png": "[encoded data removed]",
      "text/plain": [
       "<Figure size 432x288 with 1 Axes>"
      ]
     },
     "metadata": {
      "needs_background": "light"
     },
     "output_type": "display_data"
    }
   ],
   "source": [
    "#Describe the association between death and insurance type and show a visualization or test.\n",
    "hospitalSurvived = pd.crosstab(hospital.Death_1, hospital.Insurance_Type)\n",
    "hospitalSurvived.plot.bar()\n",
    "plt.ylabel('Counts in each insurance type')\n",
    "#Private insurance is the best, much fewer people have private insurance, but they make up a much higher percentage of people who survive"
   ]
  },
  {
   "cell_type": "code",
   "execution_count": null,
   "metadata": {},
   "outputs": [],
   "source": []
  }
 ],
 "metadata": {
  "kernelspec": {
   "display_name": "Python 3",
   "language": "python",
   "name": "python3"
  },
  "language_info": {
   "codemirror_mode": {
    "name": "ipython",
    "version": 3
   },
   "file_extension": ".py",
   "mimetype": "text/x-python",
   "name": "python",
   "nbconvert_exporter": "python",
   "pygments_lexer": "ipython3",
   "version": "3.7.4"
  }
 },
 "nbformat": 4,
 "nbformat_minor": 2
}
