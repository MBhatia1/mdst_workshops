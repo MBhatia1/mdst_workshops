{
 "cells": [
  {
   "cell_type": "code",
   "execution_count": 2,
   "metadata": {},
   "outputs": [
    {
     "name": "stdout",
     "output_type": "stream",
     "text": [
      "7\n",
      "8.23\n",
      "Hi\n",
      "Great Life\n"
     ]
    }
   ],
   "source": [
    "a = 7\n",
    "b = 8.23\n",
    "c = \"Hi\"\n",
    "d = 'Great Life'\n",
    "print (a)\n",
    "print (b)\n",
    "print (c)\n",
    "print (d)"
   ]
  },
  {
   "cell_type": "code",
   "execution_count": 3,
   "metadata": {},
   "outputs": [],
   "source": [
    "#Hi, Great Life\n"
   ]
  },
  {
   "cell_type": "code",
   "execution_count": 4,
   "metadata": {},
   "outputs": [
    {
     "name": "stdout",
     "output_type": "stream",
     "text": [
      "{'oranges': 5, 'apples': 10, 'lemons': 100, 'Hi, great life': 0}\n"
     ]
    }
   ],
   "source": [
    "a = 'hello'\n",
    "b = 9\n",
    "c = 3.14\n",
    "d = True\n",
    "fruits = {\n",
    "    \"oranges\" :5,\n",
    "    \"apples\" :10,\n",
    "    \"lemons\" :100,\n",
    "    \"Hi, great life\" : 0\n",
    "}\n",
    "print(fruits)"
   ]
  },
  {
   "cell_type": "code",
   "execution_count": 6,
   "metadata": {},
   "outputs": [
    {
     "data": {
      "text/plain": [
       "5"
      ]
     },
     "execution_count": 6,
     "metadata": {},
     "output_type": "execute_result"
    }
   ],
   "source": [
    "fruits[\"oranges\"]"
   ]
  },
  {
   "cell_type": "code",
   "execution_count": 9,
   "metadata": {},
   "outputs": [
    {
     "name": "stdout",
     "output_type": "stream",
     "text": [
      "5\n"
     ]
    }
   ],
   "source": [
    "dictionary = {\n",
    "    \"fruits\": fruits,\n",
    "    \"oranges\": 5,\n",
    "    \"apples\":10,\n",
    "    \"lemons\": 100,\n",
    "    \"Hi, great life\":0\n",
    "}\n",
    "print(dictionary[\"fruits\"][\"oranges\"])"
   ]
  },
  {
   "cell_type": "code",
   "execution_count": 15,
   "metadata": {},
   "outputs": [
    {
     "name": "stdout",
     "output_type": "stream",
     "text": [
      "enter a number:6\n",
      "Hi, Great Life\n"
     ]
    }
   ],
   "source": [
    "print( (\"Hi, Great Life\") if(int(input(\"enter a number:\"))%2==0) else (\"Bye, Bad Life\"))\n"
   ]
  },
  {
   "cell_type": "code",
   "execution_count": null,
   "metadata": {},
   "outputs": [],
   "source": []
  }
 ],
 "metadata": {
  "kernelspec": {
   "display_name": "Python 3",
   "language": "python",
   "name": "python3"
  },
  "language_info": {
   "codemirror_mode": {
    "name": "ipython",
    "version": 3
   },
   "file_extension": ".py",
   "mimetype": "text/x-python",
   "name": "python",
   "nbconvert_exporter": "python",
   "pygments_lexer": "ipython3",
   "version": "3.7.4"
  }
 },
 "nbformat": 4,
 "nbformat_minor": 2
}
